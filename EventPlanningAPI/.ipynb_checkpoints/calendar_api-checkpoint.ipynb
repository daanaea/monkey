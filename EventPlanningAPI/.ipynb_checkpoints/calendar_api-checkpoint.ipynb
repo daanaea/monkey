{
 "cells": [
  {
   "cell_type": "markdown",
   "id": "18dc743d",
   "metadata": {},
   "source": [
    "## 🗓️ `EventPlanningAPI`\n",
    "\n",
    "### In-memory database architecture\n",
    "\n",
    "```\n",
    "    key: {\n",
    "        field: value,\n",
    "        ...,\n",
    "        field: value\n",
    "    }\n",
    "```\n",
    "\n",
    "where we define `key` as a date in YYYY-MM-DD format, `field` as an event hash id, and `value` as an `Event` instance and time-to-live."
   ]
  },
  {
   "cell_type": "code",
   "execution_count": 750,
   "id": "9c9b667a",
   "metadata": {},
   "outputs": [],
   "source": [
    "import datetime\n",
    "import random\n",
    "from typing import Dict, List, Union, Optional\n",
    "\n",
    "WEEKDAYS = [\"Monday\", \"Tuesday\", \"Wednesday\", \"Thursday\", \"Friday\", \"Saturday\", \"Sunday\"]\n",
    "\n",
    "DEFAULT_STATE = {\n",
    "    \"_records\": {\n",
    "        datetime.datetime.now().date(): [\n",
    "            -1322510522584581004, -2456134008116096979\n",
    "        ]\n",
    "    },\n",
    "    \"_events\": {\n",
    "        -1322510522584581004: Event(\n",
    "                'Coffee daily doze ☕️',\n",
    "                datetime.datetime.now(),\n",
    "                datetime.timedelta(seconds=1)\n",
    "            ),\n",
    "        -2456134008116096979: Event(\n",
    "                'Study sesh 📚',\n",
    "                datetime.datetime.now(),\n",
    "                datetime.timedelta(hours=2)\n",
    "            )\n",
    "    },\n",
    "    \"event_counter\": 2,\n",
    "    \"name\": None\n",
    "}\n",
    "\n",
    "\n",
    "class Event:\n",
    "    \"\"\"\n",
    "    A class representing an event in the Calendar API.\n",
    "    \n",
    "    This class provides methods for event modification, including notifying guests and updating status of the event.\n",
    "    \n",
    "    Attributes: \n",
    "        title (str): The name or title of the event.\n",
    "        start (datetime.datetime): The starting date and time of the event.\n",
    "        ttl (datetime.timedelta): The time duration for which the event will last.\n",
    "        end (datetime.datetime): The calculated end date and time of the event.\n",
    "        eid (int): A unique identifier of the event, assigned only after adding this event to the Calendar instance.\n",
    "        _status (str): The current status of the event ('Upcoming', 'Current', or 'Completed').\n",
    "        _guests (List[str]): A list of guest emails associated with the event.\n",
    "    \n",
    "    Methods:\n",
    "        get_guests(): Returns the guest list for the event.\n",
    "        get_status(): Returns the current status of the event.\n",
    "        set_event_id(eid: int): Assigns a unique event identifier after adding the event to the calendar.\n",
    "        update_status(): Updates the event's status based on the current date and time.\n",
    "        add_guest(guest_contact: str): Adds a guest's email to the event's guest list.\n",
    "        remove_guest(guest_contact: str): Removes a guest's email from the guest list if present.\n",
    "        notify_guests(): Sends notification messages to all guests in the event's guest list.\n",
    "\n",
    "    \"\"\"\n",
    "    def __init__(self, title, start, ttl):\n",
    "        \"\"\"\n",
    "        Initialize an Event instance.\n",
    "        \"\"\"\n",
    "        self.title: str = title\n",
    "        self.start: datetime.datetime = start\n",
    "        self.ttl: datetime.timedelta = ttl\n",
    "        self.end: datetime.datetime = start + ttl\n",
    "        self.eid: int\n",
    "        self._status: str = None\n",
    "        self._guests: List[str] = []\n",
    "    \n",
    "    def __str__(self):\n",
    "        \"\"\"\n",
    "        An event description.\n",
    "        \n",
    "        Returns:\n",
    "            title (a string): A title of the events.\n",
    "        \"\"\"\n",
    "        print(f'The event \"{self.title}\" is starting on {self.start}, and ending on {self.end}.')\n",
    "        print(f'Note that the event happens on {WEEKDAYS[self.start.weekday()]}.')\n",
    "        if self.get_guests():\n",
    "            print(f'Guest list: {self.get_guests()}')\n",
    "        return f'Status: {self._status}.'\n",
    "    \n",
    "    def get_guests(self) -> List[str]:\n",
    "        return self._guests\n",
    "    \n",
    "    def get_status(self) -> str:\n",
    "        return self._status\n",
    "    \n",
    "    def set_event_id(self, eid: int) -> None:\n",
    "        \"Set a unique event identifier after adding it to the Calendar instance.\"\n",
    "        self.eid = eid\n",
    "    \n",
    "    def update_status(self) -> None:\n",
    "        \"Update and assign the event status.\"\n",
    "        updated_status = 'Current'\n",
    "        if datetime.datetime.now() < self.start:\n",
    "            updated_status = 'Upcoming'\n",
    "        elif datetime.datetime.now() > self.end:\n",
    "            updated_status = 'Completed'\n",
    "        self._status = updated_status\n",
    "    \n",
    "    def add_guest(self, guest_contact) -> None:\n",
    "        \"Add guest email to the guests list.\"\n",
    "        assert '@' in guest_contact\n",
    "        self._guests.append(guest_contact)\n",
    "    \n",
    "    def remove_guest(self, guest_contact) -> None:\n",
    "        assert guest_contact in self._guests\n",
    "        self._guests.remove(guest_contact)\n",
    "    \n",
    "    def notify_guests(self) -> None:\n",
    "        \"Notify guests about the upcoming event or any event changes.\"\n",
    "        for guest_contact in self.get_guests():\n",
    "            print(f'The invite was succesfully sent to {guest_contact}!')\n",
    "\n",
    "\n",
    "class Calendar:\n",
    "    \"\"\"\n",
    "    A calendar system that manages the scheduling and tracking of events, allowing the user to add, cancel, and update events.\n",
    "\n",
    "    Attributes:\n",
    "        name (Optional[str]): The owner's name or identifier for the calendar.\n",
    "        _records (Dict): A dictionary storing event records by date, mapping to lists of event IDs.\n",
    "        _events (Dict): A dictionary of scheduled events, stored by their unique IDs.\n",
    "        event_counter (int): The total count of events scheduled in the calendar.\n",
    "\n",
    "    Methods:\n",
    "        schedule_event(event: Event, eid: Optional[int] = None): Add an Event instance into the calendar.\n",
    "        cancel_event(eid: int): Remove a specified event from the calendar.\n",
    "        update(): Update status of all events with respect to the current time.\n",
    "        event_history(): Return how many events have been scheduled so far.\n",
    "        get_upcoming_events(): Return all upcoming events.\n",
    "        get_current_events(): Return event(s) that is happening right now.\n",
    "    \"\"\"\n",
    "    def __init__(self, name: Optional[str] = None):\n",
    "        self.name: Optional[str] = name\n",
    "        self._records: Dict = {}\n",
    "        self._events: Dict = {}\n",
    "        self.event_counter: int = 0\n",
    "        \n",
    "    def __str__(self) -> str:\n",
    "        \"\"\"\n",
    "        Print the calendar owner's name and all the scheduled events by increasing event date.\n",
    "        \n",
    "        Returns:\n",
    "            current date (a string): Current date in '<month> <day>, <year>' format\n",
    "        \"\"\"\n",
    "        print(f'This is a personal calendar of {self.name}.\\n')\n",
    "        print(f'The current list of events:\\n')\n",
    "        if not self._events:\n",
    "            print('(empty)')\n",
    "        else:\n",
    "            for date in sorted(self._records):\n",
    "                if not self._records[date]:\n",
    "                    continue\n",
    "                print(date.strftime(\"%B %d, %Y\"))\n",
    "                print('###################')\n",
    "                for eid in self._records[date]:\n",
    "                    print(self._events[eid])\n",
    "                    print('###################')\n",
    "                print('\\n')\n",
    "        return datetime.datetime.now().strftime(\"%B %d, %Y\")\n",
    "        \n",
    "    def schedule_event(self, event: Event, eid: Optional[int] = None) -> None:\n",
    "        \"\"\"\n",
    "        Add an Event instance into the calendar.\n",
    "        \n",
    "        The structure of the calendar's:\n",
    "            records:\n",
    "                date1: {\n",
    "                    event1_id, ..., eventN_id\n",
    "                },\n",
    "                ...\n",
    "            events: {\n",
    "                event1_id: <associated Event instance>,\n",
    "                ...\n",
    "            }\n",
    "        \"\"\"\n",
    "        if not eid:\n",
    "            eid = hash(event.title + str(random.random()))\n",
    "        event.set_event_id(eid)\n",
    "        self._events[eid] = event\n",
    "        if event.start.date() in self._records:\n",
    "            self._records[event.start.date()].append(eid)\n",
    "        else:\n",
    "            self._records[event.start.date()] = [eid]\n",
    "        self.event_counter += 1    \n",
    "        \n",
    "    def cancel_event(self, eid: int) -> bool:\n",
    "        \"\"\"\n",
    "        Remove a specified event from the calendar.\n",
    "        \n",
    "        Returns:\n",
    "            canceled_event (bool): return True if successfully canceled the event; False otherwise.\n",
    "        \"\"\"\n",
    "        if eid not in self._events:\n",
    "            return False\n",
    "        event_date = self._events[eid].start.date()\n",
    "        self._records[event_date].remove(eid)\n",
    "        del self._events[eid]\n",
    "        return True\n",
    "        \n",
    "    def update(self) -> None:\n",
    "        \"\"\"\n",
    "        Update status of all events with respect to the current time.\n",
    "        \"\"\"\n",
    "        for eid in self._events:\n",
    "            self._events[eid].update_status()\n",
    "    \n",
    "    def event_history(self) -> int:\n",
    "        \"\"\"\n",
    "        Return how many events have been scheduled so far.\n",
    "        \n",
    "        Returns:\n",
    "            event_counter (int): number of events that have ever been added.\n",
    "        \"\"\"\n",
    "        print(f'You had {self.event_counter} events scheduled so far.')\n",
    "        return self.event_counter\n",
    "        \n",
    "    def get_upcoming_events(self) -> Union[Event, List[str]]:\n",
    "        \"\"\"\n",
    "        Return all upcoming events.\n",
    "        \n",
    "        Returns:\n",
    "            upcoming_eids (Union[Event, List[str]]): an event or a list of events' IDs in the calendar that has not started.\n",
    "        \"\"\"\n",
    "        upcoming_eids = []\n",
    "        for eid in self._events:\n",
    "            if self._events[eid].get_status() == 'Upcoming':\n",
    "                upcoming_eids.append(eid)\n",
    "        if len(upcoming_eids) == 1:\n",
    "            print(self._events[upcoming_eids[0]])\n",
    "            return upcoming_eids[0]\n",
    "        return upcoming_eids\n",
    "    \n",
    "    def get_current_events(self) -> Union[Event, List[Event]]:\n",
    "        \"\"\"\n",
    "        Return event(s) that is happening right now.\n",
    "        \n",
    "        Returns:\n",
    "            current_eids (Union[Event, List[str]]): an event or a list of events' IDs in the calendar that are happening right now.\n",
    "        \"\"\"\n",
    "        current_eids = []\n",
    "        for eid in self._events:\n",
    "            if self._events[eid].get_status() == 'Current':\n",
    "                current_eids.append(eid)\n",
    "        if len(current_eids) == 1:\n",
    "            print(self._events[current_eids[0]])\n",
    "            return current_eids[0]\n",
    "        return current_eids\n"
   ]
  },
  {
   "cell_type": "markdown",
   "id": "fc261d8f",
   "metadata": {},
   "source": [
    "**Other API notes**\n",
    "- how to query events while removing them? use hashing\n",
    "    - what if we want to add events with the same name? add random variable into hashing for unique identifiers\n",
    "\n",
    "- do we want to add backup and restore methods? when ttl needs to be updated"
   ]
  },
  {
   "cell_type": "markdown",
   "id": "921c2091",
   "metadata": {},
   "source": [
    "## Potential MT prompts\n",
    "\n",
    "Given `DEFAULT_STATE`, ask these in this order:\n",
    "- Add a 'CURRENTLY HAPPENING' prefix to all currently happening events\n",
    "- Add halloween into my calendar and show my schedule with updated event status\n",
    "- Remove halloween from my schedule\n",
    "- Add halloween back. Also, add thanksgiiving and my upcoming flight on thanksgiving from 8:15 pm to 9:45 pm\n",
    "- My flight on thanksgiving has been delayed! It now starts an hour later\n",
    "- My friends are taking the same flight! Add them as guests to my flight. Their emails are gracefulstrawberry and berrycandidwatermelon at berkeley dot edu\n",
    "\n",
    "Ask model to create/override methods:\n",
    "\n",
    "- Create a `switch_time_zone` method\n",
    "- Add a variable for the `Event` class so I could attach a Zoom link to the event\n",
    "\n",
    "More potential cases:\n",
    "- Ask model to remove general event type (check if model comes up with a follow-up question specifying which event of those suitable should be removed) \n",
    "\n",
    "Note that we must update calendar (i.e. each event status) every time we modify it. For example, if we want to add a new event into the schedule, the correct code must update the calendar first."
   ]
  },
  {
   "cell_type": "markdown",
   "id": "ca54b9c2",
   "metadata": {},
   "source": [
    "## Example"
   ]
  },
  {
   "cell_type": "code",
   "execution_count": 775,
   "id": "20b4d04b",
   "metadata": {},
   "outputs": [],
   "source": [
    "my_calendar = Calendar('sadbanana')"
   ]
  },
  {
   "cell_type": "code",
   "execution_count": 776,
   "id": "142478f7",
   "metadata": {},
   "outputs": [
    {
     "name": "stdout",
     "output_type": "stream",
     "text": [
      "This is a personal calendar of sadbanana.\n",
      "\n",
      "The current list of events:\n",
      "\n",
      "(empty)\n",
      "November 04, 2024\n"
     ]
    }
   ],
   "source": [
    "# print calendar\n",
    "my_calendar.update()\n",
    "print(my_calendar)"
   ]
  },
  {
   "cell_type": "code",
   "execution_count": 777,
   "id": "1b47c57e",
   "metadata": {},
   "outputs": [],
   "source": [
    "my_calendar.schedule_event(\n",
    "    Event('Coffee daily doze ☕️', datetime.datetime.now(), datetime.timedelta(seconds=1)),\n",
    "    hash('Coffee daily doze ☕️')\n",
    ")"
   ]
  },
  {
   "cell_type": "code",
   "execution_count": 778,
   "id": "8e8fe526",
   "metadata": {},
   "outputs": [
    {
     "name": "stdout",
     "output_type": "stream",
     "text": [
      "This is a personal calendar of sadbanana.\n",
      "\n",
      "The current list of events:\n",
      "\n",
      "November 04, 2024\n",
      "###################\n",
      "The event \"Coffee daily doze ☕️\" is starting on 2024-11-04 00:16:41.729176, and ending on 2024-11-04 00:16:42.729176.\n",
      "Note that the event happens on Monday.\n",
      "Status: Current.\n",
      "###################\n",
      "\n",
      "\n",
      "November 04, 2024\n"
     ]
    }
   ],
   "source": [
    "# print calendar\n",
    "my_calendar.update()\n",
    "print(my_calendar)"
   ]
  },
  {
   "cell_type": "code",
   "execution_count": 779,
   "id": "00f013cb",
   "metadata": {},
   "outputs": [
    {
     "name": "stdout",
     "output_type": "stream",
     "text": [
      "The event \"Coffee daily doze ☕️\" is starting on 2024-11-04 00:16:41.729176, and ending on 2024-11-04 00:16:42.729176.\n",
      "Note that the event happens on Monday.\n",
      "Status: Current.\n"
     ]
    },
    {
     "data": {
      "text/plain": [
       "-1322510522584581004"
      ]
     },
     "execution_count": 779,
     "metadata": {},
     "output_type": "execute_result"
    }
   ],
   "source": [
    "my_calendar.get_current_events()"
   ]
  },
  {
   "cell_type": "code",
   "execution_count": 780,
   "id": "ae3d1eaf",
   "metadata": {},
   "outputs": [],
   "source": [
    "my_calendar.schedule_event(\n",
    "    Event('Study sesh 📚', datetime.datetime.now(), datetime.timedelta(hours=2)),\n",
    "    hash('Study sesh 📚')\n",
    ")"
   ]
  },
  {
   "cell_type": "code",
   "execution_count": 781,
   "id": "0c1e32c0",
   "metadata": {},
   "outputs": [
    {
     "name": "stdout",
     "output_type": "stream",
     "text": [
      "This is a personal calendar of sadbanana.\n",
      "\n",
      "The current list of events:\n",
      "\n",
      "November 04, 2024\n",
      "###################\n",
      "The event \"Coffee daily doze ☕️\" is starting on 2024-11-04 00:16:41.729176, and ending on 2024-11-04 00:16:42.729176.\n",
      "Note that the event happens on Monday.\n",
      "Status: Completed.\n",
      "###################\n",
      "The event \"Study sesh 📚\" is starting on 2024-11-04 00:16:42.043401, and ending on 2024-11-04 02:16:42.043401.\n",
      "Note that the event happens on Monday.\n",
      "Status: Current.\n",
      "###################\n",
      "\n",
      "\n",
      "November 04, 2024\n"
     ]
    }
   ],
   "source": [
    "# print calendar\n",
    "my_calendar.update()\n",
    "print(my_calendar)"
   ]
  },
  {
   "cell_type": "code",
   "execution_count": 782,
   "id": "53558bd8",
   "metadata": {},
   "outputs": [
    {
     "name": "stdout",
     "output_type": "stream",
     "text": [
      "-1322510522584581004 Coffee daily doze ☕️\n",
      "-2456134008116096979 Study sesh 📚\n"
     ]
    }
   ],
   "source": [
    "# check events' id\n",
    "for eid in list(my_calendar._events.keys()):\n",
    "    print(eid, my_calendar._events[eid].title)"
   ]
  },
  {
   "cell_type": "markdown",
   "id": "e1c872cc",
   "metadata": {},
   "source": [
    "After the status of the event changed, modify it in-place."
   ]
  },
  {
   "cell_type": "markdown",
   "id": "376c875d",
   "metadata": {},
   "source": [
    "#### Prompt: \"Add a 'CURRENTLY HAPPENING' prefix to all currently happening events\""
   ]
  },
  {
   "cell_type": "code",
   "execution_count": 711,
   "id": "1ef7f970",
   "metadata": {},
   "outputs": [
    {
     "name": "stdout",
     "output_type": "stream",
     "text": [
      "The event \"Study sesh 📚\" is starting on 2024-11-04 00:09:34.039320, and ending on 2024-11-04 02:09:34.039320.\n",
      "Note that the event happens on Monday.\n",
      "Status: Current.\n"
     ]
    }
   ],
   "source": [
    "eids = my_calendar.get_current_events()"
   ]
  },
  {
   "cell_type": "code",
   "execution_count": 712,
   "id": "42c4ff15",
   "metadata": {},
   "outputs": [],
   "source": [
    "if type(eids) == int:\n",
    "    my_calendar._events[eids].title = 'CURRENTLY HAPPENING ' + my_calendar._events[eids].title\n",
    "else:\n",
    "    for eid in eids:\n",
    "        my_calendar._events[eid].title = 'CURRENTLY HAPPENING ' + my_calendar._events[eid].title"
   ]
  },
  {
   "cell_type": "code",
   "execution_count": 713,
   "id": "fe8f5e24",
   "metadata": {},
   "outputs": [
    {
     "name": "stdout",
     "output_type": "stream",
     "text": [
      "This is a personal calendar of sadbanana.\n",
      "\n",
      "The current list of events:\n",
      "\n",
      "November 04, 2024\n",
      "###################\n",
      "The event \"Coffee daily doze ☕️\" is starting on 2024-11-04 00:09:33.089435, and ending on 2024-11-04 00:09:34.089435.\n",
      "Note that the event happens on Monday.\n",
      "Status: Completed.\n",
      "###################\n",
      "The event \"CURRENTLY HAPPENING Study sesh 📚\" is starting on 2024-11-04 00:09:34.039320, and ending on 2024-11-04 02:09:34.039320.\n",
      "Note that the event happens on Monday.\n",
      "Status: Current.\n",
      "###################\n",
      "\n",
      "\n",
      "November 04, 2024\n"
     ]
    }
   ],
   "source": [
    "# print calendar\n",
    "my_calendar.update()\n",
    "print(my_calendar)"
   ]
  },
  {
   "cell_type": "markdown",
   "id": "b5b74152",
   "metadata": {},
   "source": [
    "#### Prompt: \"Add halloween into my calendar and show my schedule with updated event status\""
   ]
  },
  {
   "cell_type": "code",
   "execution_count": 714,
   "id": "920f389e",
   "metadata": {},
   "outputs": [
    {
     "name": "stdout",
     "output_type": "stream",
     "text": [
      "The event \"Halloween 🎃\" is starting on 2025-10-31 00:00:00, and ending on 2025-11-01 00:00:00.\n",
      "Note that the event happens on Friday.\n",
      "Status: Upcoming.\n"
     ]
    }
   ],
   "source": [
    "# initialize event\n",
    "halloween = Event('Halloween 🎃', datetime.datetime(2025, 10, 31), datetime.timedelta(1))\n",
    "halloween.update_status()\n",
    "print(halloween)"
   ]
  },
  {
   "cell_type": "code",
   "execution_count": 715,
   "id": "7bed11e3",
   "metadata": {},
   "outputs": [],
   "source": [
    "# add event\n",
    "my_calendar.schedule_event(halloween)"
   ]
  },
  {
   "cell_type": "code",
   "execution_count": 716,
   "id": "6c258f01",
   "metadata": {
    "scrolled": true
   },
   "outputs": [
    {
     "name": "stdout",
     "output_type": "stream",
     "text": [
      "This is a personal calendar of sadbanana.\n",
      "\n",
      "The current list of events:\n",
      "\n",
      "November 04, 2024\n",
      "###################\n",
      "The event \"Coffee daily doze ☕️\" is starting on 2024-11-04 00:09:33.089435, and ending on 2024-11-04 00:09:34.089435.\n",
      "Note that the event happens on Monday.\n",
      "Status: Completed.\n",
      "###################\n",
      "The event \"CURRENTLY HAPPENING Study sesh 📚\" is starting on 2024-11-04 00:09:34.039320, and ending on 2024-11-04 02:09:34.039320.\n",
      "Note that the event happens on Monday.\n",
      "Status: Current.\n",
      "###################\n",
      "\n",
      "\n",
      "October 31, 2025\n",
      "###################\n",
      "The event \"Halloween 🎃\" is starting on 2025-10-31 00:00:00, and ending on 2025-11-01 00:00:00.\n",
      "Note that the event happens on Friday.\n",
      "Status: Upcoming.\n",
      "###################\n",
      "\n",
      "\n",
      "November 04, 2024\n"
     ]
    }
   ],
   "source": [
    "# print calendar\n",
    "my_calendar.update()\n",
    "print(my_calendar)"
   ]
  },
  {
   "cell_type": "code",
   "execution_count": 717,
   "id": "8aeeb5db",
   "metadata": {},
   "outputs": [
    {
     "name": "stdout",
     "output_type": "stream",
     "text": [
      "1792099008653040614 Coffee daily doze ☕️\n",
      "-6677544021441104700 CURRENTLY HAPPENING Study sesh 📚\n",
      "-7433034805700927944 Halloween 🎃\n"
     ]
    }
   ],
   "source": [
    "# check events' id\n",
    "for eid in list(my_calendar._events.keys()):\n",
    "    print(eid, my_calendar._events[eid].title)"
   ]
  },
  {
   "cell_type": "code",
   "execution_count": 718,
   "id": "fd9312bc",
   "metadata": {},
   "outputs": [
    {
     "data": {
      "text/plain": [
       "True"
      ]
     },
     "execution_count": 718,
     "metadata": {},
     "output_type": "execute_result"
    }
   ],
   "source": [
    "# remove event\n",
    "my_calendar.cancel_event(list(my_calendar._events.keys())[-1])"
   ]
  },
  {
   "cell_type": "code",
   "execution_count": 719,
   "id": "1c941448",
   "metadata": {},
   "outputs": [
    {
     "name": "stdout",
     "output_type": "stream",
     "text": [
      "This is a personal calendar of sadbanana.\n",
      "\n",
      "The current list of events:\n",
      "\n",
      "November 04, 2024\n",
      "###################\n",
      "The event \"Coffee daily doze ☕️\" is starting on 2024-11-04 00:09:33.089435, and ending on 2024-11-04 00:09:34.089435.\n",
      "Note that the event happens on Monday.\n",
      "Status: Completed.\n",
      "###################\n",
      "The event \"CURRENTLY HAPPENING Study sesh 📚\" is starting on 2024-11-04 00:09:34.039320, and ending on 2024-11-04 02:09:34.039320.\n",
      "Note that the event happens on Monday.\n",
      "Status: Current.\n",
      "###################\n",
      "\n",
      "\n",
      "November 04, 2024\n"
     ]
    }
   ],
   "source": [
    "# print calendar\n",
    "my_calendar.update()\n",
    "print(my_calendar)"
   ]
  },
  {
   "cell_type": "markdown",
   "id": "afa2d53f",
   "metadata": {},
   "source": [
    "#### Prompt: \"Remove halloween from my schedule\""
   ]
  },
  {
   "cell_type": "code",
   "execution_count": 720,
   "id": "ec1669d4",
   "metadata": {},
   "outputs": [],
   "source": [
    "# add back\n",
    "my_calendar.schedule_event(halloween)"
   ]
  },
  {
   "cell_type": "markdown",
   "id": "a55dee54",
   "metadata": {},
   "source": [
    "#### Prompt: \"Add halloween back. Also, add thanksgiving and my upcoming flight on thanksgiving from 8:15 pm to 9:45 pm\""
   ]
  },
  {
   "cell_type": "code",
   "execution_count": 721,
   "id": "5ea202bf",
   "metadata": {},
   "outputs": [],
   "source": [
    "# add more events\n",
    "thanksgiving = Event('Thanksgiving 🦃', datetime.datetime(2024, 11, 28), datetime.timedelta(days=1))\n",
    "thanksgiving.update_status()\n",
    "my_calendar.schedule_event(thanksgiving)\n",
    "\n",
    "flight = Event('Flight to San Diego 🛫', datetime.datetime(2024, 11, 28, 20, 15, 0), datetime.timedelta(hours=1, minutes=30))\n",
    "flight.update_status()\n",
    "my_calendar.schedule_event(flight)"
   ]
  },
  {
   "cell_type": "code",
   "execution_count": 722,
   "id": "7541b72f",
   "metadata": {},
   "outputs": [
    {
     "name": "stdout",
     "output_type": "stream",
     "text": [
      "This is a personal calendar of sadbanana.\n",
      "\n",
      "The current list of events:\n",
      "\n",
      "November 04, 2024\n",
      "###################\n",
      "The event \"Coffee daily doze ☕️\" is starting on 2024-11-04 00:09:33.089435, and ending on 2024-11-04 00:09:34.089435.\n",
      "Note that the event happens on Monday.\n",
      "Status: Completed.\n",
      "###################\n",
      "The event \"CURRENTLY HAPPENING Study sesh 📚\" is starting on 2024-11-04 00:09:34.039320, and ending on 2024-11-04 02:09:34.039320.\n",
      "Note that the event happens on Monday.\n",
      "Status: Current.\n",
      "###################\n",
      "\n",
      "\n",
      "November 28, 2024\n",
      "###################\n",
      "The event \"Thanksgiving 🦃\" is starting on 2024-11-28 00:00:00, and ending on 2024-11-29 00:00:00.\n",
      "Note that the event happens on Thursday.\n",
      "Status: Upcoming.\n",
      "###################\n",
      "The event \"Flight to San Diego 🛫\" is starting on 2024-11-28 20:15:00, and ending on 2024-11-28 21:45:00.\n",
      "Note that the event happens on Thursday.\n",
      "Status: Upcoming.\n",
      "###################\n",
      "\n",
      "\n",
      "October 31, 2025\n",
      "###################\n",
      "The event \"Halloween 🎃\" is starting on 2025-10-31 00:00:00, and ending on 2025-11-01 00:00:00.\n",
      "Note that the event happens on Friday.\n",
      "Status: Upcoming.\n",
      "###################\n",
      "\n",
      "\n",
      "November 04, 2024\n"
     ]
    }
   ],
   "source": [
    "# print calendar\n",
    "my_calendar.update()\n",
    "print(my_calendar)"
   ]
  },
  {
   "cell_type": "markdown",
   "id": "a6300c70",
   "metadata": {},
   "source": [
    "#### Prompt: \"My flight on thanksgiving has been delayed! It now starts an hour later\""
   ]
  },
  {
   "cell_type": "code",
   "execution_count": 723,
   "id": "e0bf63b5",
   "metadata": {},
   "outputs": [
    {
     "name": "stdout",
     "output_type": "stream",
     "text": [
      "1792099008653040614 Coffee daily doze ☕️\n",
      "-6677544021441104700 CURRENTLY HAPPENING Study sesh 📚\n",
      "5055264609276513585 Halloween 🎃\n",
      "1266889921927200035 Thanksgiving 🦃\n",
      "-6695472132160786868 Flight to San Diego 🛫\n"
     ]
    }
   ],
   "source": [
    "# check events' id\n",
    "for eid in list(my_calendar._events.keys()):\n",
    "    print(eid, my_calendar._events[eid].title)"
   ]
  },
  {
   "cell_type": "code",
   "execution_count": 724,
   "id": "1771101c",
   "metadata": {},
   "outputs": [],
   "source": [
    "# modify event: flight has been rescheduled to an hour later\n",
    "my_calendar._events[list(my_calendar._events.keys())[-1]].start += datetime.timedelta(hours=1)\n",
    "my_calendar._events[list(my_calendar._events.keys())[-1]].end += datetime.timedelta(hours=1)"
   ]
  },
  {
   "cell_type": "code",
   "execution_count": 725,
   "id": "c1631f7e",
   "metadata": {},
   "outputs": [
    {
     "name": "stdout",
     "output_type": "stream",
     "text": [
      "This is a personal calendar of sadbanana.\n",
      "\n",
      "The current list of events:\n",
      "\n",
      "November 04, 2024\n",
      "###################\n",
      "The event \"Coffee daily doze ☕️\" is starting on 2024-11-04 00:09:33.089435, and ending on 2024-11-04 00:09:34.089435.\n",
      "Note that the event happens on Monday.\n",
      "Status: Completed.\n",
      "###################\n",
      "The event \"CURRENTLY HAPPENING Study sesh 📚\" is starting on 2024-11-04 00:09:34.039320, and ending on 2024-11-04 02:09:34.039320.\n",
      "Note that the event happens on Monday.\n",
      "Status: Current.\n",
      "###################\n",
      "\n",
      "\n",
      "November 28, 2024\n",
      "###################\n",
      "The event \"Thanksgiving 🦃\" is starting on 2024-11-28 00:00:00, and ending on 2024-11-29 00:00:00.\n",
      "Note that the event happens on Thursday.\n",
      "Status: Upcoming.\n",
      "###################\n",
      "The event \"Flight to San Diego 🛫\" is starting on 2024-11-28 21:15:00, and ending on 2024-11-28 22:45:00.\n",
      "Note that the event happens on Thursday.\n",
      "Status: Upcoming.\n",
      "###################\n",
      "\n",
      "\n",
      "October 31, 2025\n",
      "###################\n",
      "The event \"Halloween 🎃\" is starting on 2025-10-31 00:00:00, and ending on 2025-11-01 00:00:00.\n",
      "Note that the event happens on Friday.\n",
      "Status: Upcoming.\n",
      "###################\n",
      "\n",
      "\n",
      "November 04, 2024\n"
     ]
    }
   ],
   "source": [
    "# print calendar\n",
    "my_calendar.update()\n",
    "print(my_calendar)"
   ]
  },
  {
   "cell_type": "markdown",
   "id": "6616dd29",
   "metadata": {},
   "source": [
    "#### Prompt: \"My friends are taking the same flight! Add them as guests to my flight. Their emails are gracefulstrawberry and berrycandidwatermelon at berkeley dot edu\""
   ]
  },
  {
   "cell_type": "code",
   "execution_count": 726,
   "id": "1e4eb4eb",
   "metadata": {},
   "outputs": [],
   "source": [
    "# modify event: my friends are now flying with me!\n",
    "# their emails: 'gracefulstrawberry@berkeley.edu', 'berrycandidwatermelon@berkeley.edu'\n",
    "my_calendar._events[list(my_calendar._events.keys())[-1]].add_guest('gracefulstrawberry@berkeley.edu')\n",
    "my_calendar._events[list(my_calendar._events.keys())[-1]].add_guest('berrycandidwatermelon@berkeley.edu')"
   ]
  },
  {
   "cell_type": "code",
   "execution_count": 727,
   "id": "0fdc6cad",
   "metadata": {},
   "outputs": [
    {
     "name": "stdout",
     "output_type": "stream",
     "text": [
      "The invite was succesfully sent to gracefulstrawberry@berkeley.edu!\n",
      "The invite was succesfully sent to berrycandidwatermelon@berkeley.edu!\n"
     ]
    }
   ],
   "source": [
    "# notify guests about the event\n",
    "my_calendar._events[list(my_calendar._events.keys())[-1]].notify_guests()"
   ]
  },
  {
   "cell_type": "code",
   "execution_count": 728,
   "id": "c3e075db",
   "metadata": {},
   "outputs": [
    {
     "name": "stdout",
     "output_type": "stream",
     "text": [
      "This is a personal calendar of sadbanana.\n",
      "\n",
      "The current list of events:\n",
      "\n",
      "November 04, 2024\n",
      "###################\n",
      "The event \"Coffee daily doze ☕️\" is starting on 2024-11-04 00:09:33.089435, and ending on 2024-11-04 00:09:34.089435.\n",
      "Note that the event happens on Monday.\n",
      "Status: Completed.\n",
      "###################\n",
      "The event \"CURRENTLY HAPPENING Study sesh 📚\" is starting on 2024-11-04 00:09:34.039320, and ending on 2024-11-04 02:09:34.039320.\n",
      "Note that the event happens on Monday.\n",
      "Status: Current.\n",
      "###################\n",
      "\n",
      "\n",
      "November 28, 2024\n",
      "###################\n",
      "The event \"Thanksgiving 🦃\" is starting on 2024-11-28 00:00:00, and ending on 2024-11-29 00:00:00.\n",
      "Note that the event happens on Thursday.\n",
      "Status: Upcoming.\n",
      "###################\n",
      "The event \"Flight to San Diego 🛫\" is starting on 2024-11-28 21:15:00, and ending on 2024-11-28 22:45:00.\n",
      "Note that the event happens on Thursday.\n",
      "Guest list: ['gracefulstrawberry@berkeley.edu', 'berrycandidwatermelon@berkeley.edu']\n",
      "Status: Upcoming.\n",
      "###################\n",
      "\n",
      "\n",
      "October 31, 2025\n",
      "###################\n",
      "The event \"Halloween 🎃\" is starting on 2025-10-31 00:00:00, and ending on 2025-11-01 00:00:00.\n",
      "Note that the event happens on Friday.\n",
      "Status: Upcoming.\n",
      "###################\n",
      "\n",
      "\n",
      "November 04, 2024\n"
     ]
    }
   ],
   "source": [
    "# print calendar\n",
    "my_calendar.update()\n",
    "print(my_calendar)"
   ]
  },
  {
   "cell_type": "markdown",
   "id": "2dbf441e",
   "metadata": {},
   "source": [
    "Guests should also be notified about any changes in the event."
   ]
  },
  {
   "cell_type": "markdown",
   "id": "0bd07726",
   "metadata": {},
   "source": [
    "## Minor evaluation runs"
   ]
  },
  {
   "cell_type": "markdown",
   "id": "998c91d8",
   "metadata": {},
   "source": [
    "#### Gorilla OpenFunctions-v2\n",
    "\n",
    "```\n",
    "my_calendar.add_event(Event(title='Halloween', start=datetime.datetime(2023, 10, 31, 19, 00), duration=datetime.timedelta(hours=1))), my_calendar.__str__()\n",
    "```\n",
    "\n",
    "<font color=\"red\">\n",
    "    Gorilla assumed it was 2023, although it is currently 2024. Also, it forgot to update status of the event after adding that event and while outputting calendar.\n",
    "</font>"
   ]
  },
  {
   "cell_type": "code",
   "execution_count": 279,
   "id": "bc175e07",
   "metadata": {},
   "outputs": [
    {
     "ename": "TypeError",
     "evalue": "Event.__init__() got an unexpected keyword argument 'duration'",
     "output_type": "error",
     "traceback": [
      "\u001b[0;31m---------------------------------------------------------------------------\u001b[0m",
      "\u001b[0;31mTypeError\u001b[0m                                 Traceback (most recent call last)",
      "Cell \u001b[0;32mIn[279], line 1\u001b[0m\n\u001b[0;32m----> 1\u001b[0m my_calendar\u001b[38;5;241m.\u001b[39madd_event(Event(title\u001b[38;5;241m=\u001b[39m\u001b[38;5;124m'\u001b[39m\u001b[38;5;124mHalloween\u001b[39m\u001b[38;5;124m'\u001b[39m, start\u001b[38;5;241m=\u001b[39mdatetime\u001b[38;5;241m.\u001b[39mdatetime(\u001b[38;5;241m2023\u001b[39m, \u001b[38;5;241m10\u001b[39m, \u001b[38;5;241m31\u001b[39m, \u001b[38;5;241m19\u001b[39m, \u001b[38;5;241m0\u001b[39m), duration\u001b[38;5;241m=\u001b[39mdatetime\u001b[38;5;241m.\u001b[39mtimedelta(hours\u001b[38;5;241m=\u001b[39m\u001b[38;5;241m3\u001b[39m)))\n",
      "\u001b[0;31mTypeError\u001b[0m: Event.__init__() got an unexpected keyword argument 'duration'"
     ]
    }
   ],
   "source": [
    "my_calendar.add_event(Event(title='Halloween', start=datetime.datetime(2023, 10, 31, 19, 0), duration=datetime.timedelta(hours=3)))"
   ]
  },
  {
   "cell_type": "code",
   "execution_count": 332,
   "id": "3f8df81f",
   "metadata": {},
   "outputs": [
    {
     "name": "stdout",
     "output_type": "stream",
     "text": [
      "This is a personal calendar of sadbanana.\n",
      "The current list of events:\n",
      "###################\n",
      "The event \"Halloween\" is starting on 2023-10-31 19:00:00, and ending on 2023-10-31 22:00:00.\n",
      "Note that the event happens on Monday.\n",
      "Status: None.\n",
      "###################\n"
     ]
    },
    {
     "data": {
      "text/plain": [
       "'November 01, 2024'"
      ]
     },
     "execution_count": 332,
     "metadata": {},
     "output_type": "execute_result"
    }
   ],
   "source": [
    "my_calendar.__str__()"
   ]
  },
  {
   "cell_type": "markdown",
   "id": "da9c68de",
   "metadata": {},
   "source": [
    "#### ChatGPT 4o\n",
    "\n",
    "```\n",
    "    import datetime\n",
    "\n",
    "    # Initialize or retrieve the calendar\n",
    "    my_calendar = Calendar(\"sadbanana\")\n",
    "\n",
    "    # Define the Halloween event\n",
    "    halloween_event = Event(\n",
    "        title=\"Halloween Party\",\n",
    "        start=datetime.datetime(datetime.datetime.now().year, 10, 31, 18, 0),  # Halloween on October 31 at 6 PM\n",
    "        duration=datetime.timedelta(hours=5)  # Let's assume a 5-hour party\n",
    "    )\n",
    "\n",
    "    # Add the Halloween event to the calendar\n",
    "    my_calendar.add_event(halloween_event)\n",
    "\n",
    "    # Update all event statuses\n",
    "    my_calendar.update()\n",
    "\n",
    "    # Display the updated calendar\n",
    "    print(my_calendar)\n",
    "```\n",
    "\n",
    "<font color='green'>\n",
    "    Correctly updated status of all events before outputting.\n",
    "</font>"
   ]
  },
  {
   "cell_type": "code",
   "execution_count": 348,
   "id": "30d6e0ef",
   "metadata": {},
   "outputs": [
    {
     "name": "stdout",
     "output_type": "stream",
     "text": [
      "This is a personal calendar of sadbanana.\n",
      "The current list of events:\n",
      "###################\n",
      "The event \"Halloween Party\" is starting on 2024-10-31 18:00:00, and ending on 2024-10-31 23:00:00.\n",
      "Note that the event happens on Wednesday.\n",
      "Status: Completed.\n",
      "###################\n",
      "November 01, 2024\n"
     ]
    }
   ],
   "source": [
    "import datetime\n",
    "\n",
    "# Initialize or retrieve the calendar\n",
    "my_calendar = Calendar(\"sadbanana\")\n",
    "\n",
    "# Define the Halloween event\n",
    "halloween_event = Event(\n",
    "    title=\"Halloween Party\",\n",
    "    start=datetime.datetime(datetime.datetime.now().year, 10, 31, 18, 0),  # Halloween on October 31 at 6 PM\n",
    "    duration=datetime.timedelta(hours=5)  # Let's assume a 5-hour party\n",
    ")\n",
    "\n",
    "# Add the Halloween event to the calendar\n",
    "my_calendar.add_event(halloween_event)\n",
    "\n",
    "# Update all event statuses\n",
    "my_calendar.update()\n",
    "\n",
    "# Display the updated calendar\n",
    "print(my_calendar)"
   ]
  },
  {
   "cell_type": "markdown",
   "id": "798a7ab9",
   "metadata": {},
   "source": [
    "### Follow-up prompt: \"Now, add thanksgiving into my schedule\""
   ]
  },
  {
   "cell_type": "markdown",
   "id": "a71a61eb",
   "metadata": {},
   "source": [
    "#### ChatGPT 4o"
   ]
  },
  {
   "cell_type": "code",
   "execution_count": 349,
   "id": "84461406",
   "metadata": {},
   "outputs": [
    {
     "name": "stdout",
     "output_type": "stream",
     "text": [
      "This is a personal calendar of sadbanana.\n",
      "The current list of events:\n",
      "###################\n",
      "The event \"Halloween Party\" is starting on 2024-10-31 18:00:00, and ending on 2024-10-31 23:00:00.\n",
      "Note that the event happens on Wednesday.\n",
      "Status: Completed.\n",
      "###################\n",
      "###################\n",
      "The event \"Thanksgiving\" is starting on 2024-11-28 13:00:00, and ending on 2024-11-28 19:00:00.\n",
      "Note that the event happens on Wednesday.\n",
      "Status: Upcoming.\n",
      "###################\n",
      "November 01, 2024\n"
     ]
    }
   ],
   "source": [
    "# Define Thanksgiving event\n",
    "thanksgiving_start = datetime.datetime(datetime.datetime.now().year, 11, 28, 13, 0)  # Fourth Thursday in November\n",
    "thanksgiving_duration = datetime.timedelta(hours=6)  # Duration of 6 hours\n",
    "thanksgiving_event = Event(\"Thanksgiving\", thanksgiving_start, thanksgiving_duration)\n",
    "\n",
    "# Add the Thanksgiving event to the calendar\n",
    "my_calendar.add_event(thanksgiving_event)\n",
    "\n",
    "# Update the status of all events\n",
    "my_calendar.update()\n",
    "\n",
    "# Print the updated schedule\n",
    "print(my_calendar)"
   ]
  },
  {
   "cell_type": "markdown",
   "id": "8ad9b393",
   "metadata": {},
   "source": [
    "### Follow-up prompt: \"Remove halloween from my schedule\""
   ]
  },
  {
   "cell_type": "markdown",
   "id": "f88220fe",
   "metadata": {},
   "source": [
    "#### ChatGPT 4o\n",
    "\n",
    "<font color='orange'>\n",
    "    ChatGPT 4o made a good try to define the id of the event by parsing through all the events, but the title of the event was not exactly \"Halloween\", so it could not remove it.\n",
    "</font>"
   ]
  },
  {
   "cell_type": "code",
   "execution_count": 350,
   "id": "11beb648",
   "metadata": {},
   "outputs": [
    {
     "name": "stdout",
     "output_type": "stream",
     "text": [
      "This is a personal calendar of sadbanana.\n",
      "The current list of events:\n",
      "###################\n",
      "The event \"Halloween Party\" is starting on 2024-10-31 18:00:00, and ending on 2024-10-31 23:00:00.\n",
      "Note that the event happens on Wednesday.\n",
      "Status: Completed.\n",
      "###################\n",
      "###################\n",
      "The event \"Thanksgiving\" is starting on 2024-11-28 13:00:00, and ending on 2024-11-28 19:00:00.\n",
      "Note that the event happens on Wednesday.\n",
      "Status: Upcoming.\n",
      "###################\n",
      "November 01, 2024\n"
     ]
    }
   ],
   "source": [
    "# Find and remove Halloween event by title\n",
    "for eid, event in list(my_calendar._events.items()):\n",
    "    if event.title == \"Halloween\":\n",
    "        my_calendar.remove_event(eid)\n",
    "        print(\"Halloween event removed.\")\n",
    "\n",
    "# Update the status of all events\n",
    "my_calendar.update()\n",
    "\n",
    "# Print the updated schedule\n",
    "print(my_calendar)"
   ]
  },
  {
   "cell_type": "markdown",
   "id": "f3a79510",
   "metadata": {},
   "source": [
    "## Alternative implementations\n",
    "\n",
    "Using `TTLCache`. See [reference](https://stackoverflow.com/questions/31771286/python-in-memory-cache-with-time-to-live)."
   ]
  },
  {
   "cell_type": "markdown",
   "id": "ccd02de8",
   "metadata": {},
   "source": [
    " "
   ]
  }
 ],
 "metadata": {
  "kernelspec": {
   "display_name": "Python 3 (ipykernel)",
   "language": "python",
   "name": "python3"
  },
  "language_info": {
   "codemirror_mode": {
    "name": "ipython",
    "version": 3
   },
   "file_extension": ".py",
   "mimetype": "text/x-python",
   "name": "python",
   "nbconvert_exporter": "python",
   "pygments_lexer": "ipython3",
   "version": "3.11.5"
  }
 },
 "nbformat": 4,
 "nbformat_minor": 5
}
